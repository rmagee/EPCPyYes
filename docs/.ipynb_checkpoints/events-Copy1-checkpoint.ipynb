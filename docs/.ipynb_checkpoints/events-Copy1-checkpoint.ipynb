{
 "cells": [
  {
   "cell_type": "markdown",
   "metadata": {},
   "source": [
    "# Using the EPCPyYes Module\n",
    "\n",
    "Before you start, this documentation is provided in the form of an IPython notebook.  All of the code in this\n",
    "document can be executed if you run the `.ipynb` file in a local notebook from the source code tree. \n",
    "\n",
    "## Get Jupyter\n",
    "You can download Jupyter here for free:\n",
    "[http://jupyter.org/](http://jupyter.org/)\n",
    "\n",
    "Additional and more detailed examples can be found in the EPCPyYes unit tests.\n",
    "\n",
    "The EPCPyYes module is designed to allow developers to quickly and easily generate EPCIS data.  There are four fundamental areas of developer tools covered by the module:\n",
    "\n",
    "    * EPCIS Documents\n",
    "    * EPCIS Events\n",
    "    * Core Business Vocabulary (CBV) Enumberations\n",
    "    * Helper functions for creating various URN values"
   ]
  },
  {
   "cell_type": "markdown",
   "metadata": {},
   "source": [
    "## For Jupyter Notebook Users\n",
    "If you are running the jupyter notebook from the EPCPyYes source tree\n",
    "execute the cell below to append the EPCPyYes module to the python path"
   ]
  },
  {
   "cell_type": "code",
   "execution_count": 4,
   "metadata": {
    "collapsed": true
   },
   "outputs": [],
   "source": [
    "# if you are running the jupyter notebook from the EPCPyYes source tree\n",
    "# execute this code to append the EPCPyYes module to the python path\n",
    "import os\n",
    "import sys\n",
    "nb_dir = os.path.split(os.getcwd())[0]\n",
    "if nb_dir not in sys.path:\n",
    "    sys.path.append(nb_dir)"
   ]
  },
  {
   "cell_type": "markdown",
   "metadata": {},
   "source": [
    "## Creating SGTIN URN Values\n",
    "\n",
    "The `EPCPyYes.core.v1_2.helpers` module contains some helpful functions for creating common URN values.\n",
    "\n",
    "In the example below, we create a python generator with ten SGTIN URN values by supplying the following (For notebook users: if you get an import error, run the code section above first):\n",
    "\n",
    "    * Company Prefix\n",
    "    * Indicator Digit\n",
    "    * Item Reference Number\n",
    "    * A list of serial numbers (in this case sequential)\n",
    "    \n",
    "### `gtin_urn_generator` helper function"
   ]
  },
  {
   "cell_type": "code",
   "execution_count": null,
   "metadata": {
    "collapsed": false
   },
   "outputs": [],
   "source": [
    "from EPCPyYes.core.v1_2.CBV import business_steps\n",
    "from EPCPyYes.core.v1_2 import helpers\n",
    "\n",
    "def create_epcs(start=1000, end=1002):\n",
    "    # create a range for the number generation (we can use SerialBox as well)\n",
    "    nums = range(start, end)\n",
    "    # generate some URNS by passing in the company prefix, indicator, item refernce\n",
    "    # number and a range of sequetial serial numbers.\n",
    "    epcs = helpers.gtin_urn_generator('305555', '1', '555555', nums)\n",
    "    return epcs\n",
    "\n",
    "for epc in create_epcs(1000,1010):\n",
    "    print(epc)"
   ]
  },
  {
   "cell_type": "markdown",
   "metadata": {},
   "source": [
    "### `gtin_to_urn` helper function\n",
    "\n",
    "Similar to the example above but instead of passing in a list of serial numbers pass in a single serial number.\n"
   ]
  },
  {
   "cell_type": "code",
   "execution_count": 7,
   "metadata": {
    "collapsed": false
   },
   "outputs": [
    {
     "name": "stdout",
     "output_type": "stream",
     "text": [
      "urn:epc:id:sgtin:305555.1555551.1000\n"
     ]
    }
   ],
   "source": [
    "from EPCPyYes.core.v1_2 import helpers\n",
    "print(helpers.gtin_to_urn('305555', '1', '555551', 1000))"
   ]
  },
  {
   "cell_type": "markdown",
   "metadata": {},
   "source": [
    "### Getting Time Values for Events with the `get_current_utc_time_and_offset` function\n",
    "\n",
    "The `get_current_utc_time_and_offset` returns a two-tuple value with the current UTC time and the timezone offset.  Usefull for generating time values in EPCIS events (this is covered later)."
   ]
  },
  {
   "cell_type": "code",
   "execution_count": 10,
   "metadata": {
    "collapsed": false
   },
   "outputs": [
    {
     "name": "stdout",
     "output_type": "stream",
     "text": [
      "('2015-01-24T17:23:45.608210+00:00', '+00:00')\n"
     ]
    }
   ],
   "source": [
    "from EPCPyYes.core.v1_2 import helpers\n",
    "print(helpers.get_current_utc_time_and_offset())"
   ]
  },
  {
   "cell_type": "markdown",
   "metadata": {},
   "source": [
    "### Converting a GLN to an SGLN URN Value with the gln13_data_to_sgln_urn function\n",
    "\n",
    "Below you can see we are creating a generic GLN by specifying a company prefix and location reference as well as creating a SGLN by specifying the aformentioned values along with an extension."
   ]
  },
  {
   "cell_type": "code",
   "execution_count": null,
   "metadata": {
    "collapsed": false
   },
   "outputs": [],
   "source": [
    "from EPCPyYes.core.v1_2 import helpers\n",
    "destination_party = helpers.gln13_data_to_sgln_urn(company_prefix='0614141',\n",
    "                                           location_reference='00001')\n",
    "destination_location = helpers.gln13_data_to_sgln_urn(company_prefix='0614141',\n",
    "                                              location_reference='00001',\n",
    "                                              extension='23')\n",
    "print(destination_party)\n",
    "print(destination_location)"
   ]
  },
  {
   "cell_type": "markdown",
   "metadata": {
    "collapsed": true
   },
   "source": [
    "# Generating EPCIS Events\n",
    "\n",
    "Events can be generated in EPCPyYes by using the `template_events` module classes.  These classes rely on the Jinja2 templates defined in the root level `templates` directory of the project.  \n",
    "\n",
    "## Object Event Generation Example\n",
    "Here we will define an Object event in python and render it to XML.  This event would be very much like a \n",
    "commissioning event one might see from a pharmaceutical packaging operation complete with lot and exipration \n",
    "date."
   ]
  },
  {
   "cell_type": "code",
   "execution_count": null,
   "metadata": {
    "collapsed": true
   },
   "outputs": [],
   "source": [
    "from EPCPyYes.core.v1_2 import helpers\n",
    "from EPCPyYes.core.v1_2.events import Source, Action\n",
    "from EPCPyYes.core.v1_2.template_events import ObjectEvent\n",
    "from EPCPyYes.core.v1_2.CBV import business_steps\n",
    "from EPCPyYes.core.v1_2.CBV.business_steps import BusinessSteps\n",
    "from EPCPyYes.core.v1_2.CBV.source_destination import SourceDestinationTypes\n",
    "from EPCPyYes.core.v1_2.CBV.dispositions import Disposition\n",
    "from EPCPyYes.core.v1_2.CBV.instance_lot_master_data import InstanceLotMasterDataAttribute,\\\n",
    "    LotLevelAttributeName, ItemLevelAttributeName\n",
    "\n",
    "# we will use the same company prefix across many functions\n",
    "company_prefix = '305555'\n",
    "# we will need to create some dummy EPC values for our event...\n",
    "def create_epcs(start, end):\n",
    "    # create a range for the number generation (we can use SerialBox as well)\n",
    "    nums = range(start, end+1)\n",
    "    # generate some URNS by passing in the company prefix, indicator, item refernce\n",
    "    # number and a range of sequetial serial numbers.\n",
    "    epcs = helpers.gtin_urn_generator(company_prefix, '1', '555555', nums)\n",
    "    return epcs\n",
    "\n",
    "# create 5 epcs\n",
    "epcs = create_epcs(1,5)\n",
    "\n",
    "# we will use the helper function to get the event time\n",
    "now, tzoffset = helpers.get_current_utc_time_and_offset()\n",
    "\n",
    "# lets create some lot and expiration data for event\n",
    "ilmd = [\n",
    "    InstanceLotMasterDataAttribute(\n",
    "        name=LotLevelAttributeName.itemExpirationDate,\n",
    "        value='2015-12-31'),\n",
    "    InstanceLotMasterDataAttribute(\n",
    "        name=ItemLevelAttributeName.lotNumber,\n",
    "        value='DL232')\n",
    "]\n",
    "\n",
    "# next we will create a biz location and a read point\n",
    "biz_location = helpers.gln13_data_to_sgln_urn(company_prefix=company_prefix,\n",
    "                                      location_reference='123456')\n",
    "read_point = helpers.gln13_data_to_sgln_urn(company_prefix=company_prefix,\n",
    "                                    location_reference='123456',\n",
    "                                    extension='12')\n",
    "\n",
    "# let's create a source list using those two values as well...\n",
    "# if we wanted to create a destination list it would a very\n",
    "# similar effort.\n",
    "source_list = [\n",
    "    Source(SourceDestinationTypes.possessing_party.value,\n",
    "           biz_location),\n",
    "    Source(SourceDestinationTypes.location.value, read_point)\n",
    "]\n",
    "\n",
    "# now we create an object event...\n",
    "oe = ObjectEvent(now, tzoffset,\n",
    "                 record_time=now,\n",
    "                 action=Action.add,\n",
    "                 epc_list=epcs,\n",
    "                 biz_step=BusinessSteps.commissioning.value,\n",
    "                 disposition=Disposition.encoded.value,\n",
    "                 biz_location=biz_location,\n",
    "                 read_point=read_point,\n",
    "                 source_list=source_list,\n",
    "                 ilmd=ilmd)\n",
    "\n",
    "print(oe.render())"
   ]
  },
  {
   "cell_type": "markdown",
   "metadata": {},
   "source": [
    "# Adding The Event to an EPCIS Document\n",
    " \n",
    "To execute this code in Jupyter, make sure you have run the code in the prior example.  \n",
    "\n",
    "Creating and EPCIS Document and adding events to it in EPCPyYes if fairly simple:"
   ]
  },
  {
   "cell_type": "code",
   "execution_count": null,
   "metadata": {},
   "outputs": [],
   "source": [
    "from EPCPyYes.core.v1_2.template_events import EPCISDocument\n",
    "\n",
    "epc_doc = EPCISDocument(object_events=[oe])\n",
    "print(epc_doc.render())\n"
   ]
  }
 ],
 "metadata": {
  "kernelspec": {
   "display_name": "Python 3",
   "language": "python",
   "name": "python3"
  },
  "language_info": {
   "codemirror_mode": {
    "name": "ipython",
    "version": 3
   },
   "file_extension": ".py",
   "mimetype": "text/x-python",
   "name": "python",
   "nbconvert_exporter": "python",
   "pygments_lexer": "ipython3",
   "version": "3.5.1"
  }
 },
 "nbformat": 4,
 "nbformat_minor": 0
}
