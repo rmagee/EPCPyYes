{
 "cells": [
  {
   "cell_type": "markdown",
   "metadata": {},
   "source": [
    "# Using the EPCPyYes Module\n",
    "\n",
    "Before you start, this documentation is provided in the form of an IPython notebook.  All of the code in this\n",
    "document can be executed if you run the `.ipynb` file in a local notebook from the source code tree. \n",
    "\n",
    "## Python Classes That Generate Compliant XML and JSON\n",
    "\n",
    "The EPCPyYes module allows you to work with Python objects that represent the \n",
    "constructs defined in the GS1 EPCIS and CBV standards and then serialize \n",
    "those class instances\n",
    "to EPCSI compliant XML or JSON- which has value in web interface development and\n",
    "also document database use cases.\n",
    "\n",
    "Each class that can render XML or JSON has three functions it exposes:\n",
    "\n",
    "\trender() # renders XML\n",
    "\trender_json() # renders compressed json\n",
    "\trender_pretty_json() # renders pretty printed json\n",
    "\n",
    "\n",
    "## Get Jupyter\n",
    "You can download Jupyter here for free:\n",
    "[http://jupyter.org/](http://jupyter.org/)\n",
    "\n",
    "Additional and more detailed examples can be found in the EPCPyYes unit tests.\n",
    "\n",
    "The EPCPyYes module is designed to allow developers to quickly and easily generate EPCIS data.  There are four fundamental areas of developer tools covered by the module:\n",
    "\n",
    "    * EPCIS Documents\n",
    "    * EPCIS Events\n",
    "    * Core Business Vocabulary (CBV) Enumberations\n",
    "    * Helper functions for creating various URN values"
   ]
  },
  {
   "cell_type": "markdown",
   "metadata": {},
   "source": [
    "# Before You Try To Run This Code in Jupyter\n",
    "If you are running the jupyter notebook from the EPCPyYes source tree\n",
    "execute the cell below to append the EPCPyYes module to the python path.  Also, each of the EPCIS event and document rendering examples here rely on the prior examples being run for context.  "
   ]
  },
  {
   "cell_type": "code",
   "execution_count": null,
   "metadata": {
    "collapsed": true
   },
   "outputs": [],
   "source": [
    "import os\n",
    "import sys\n",
    "nb_dir = os.path.split(os.getcwd())[0]\n",
    "if nb_dir not in sys.path:\n",
    "    sys.path.append(nb_dir)"
   ]
  },
  {
   "cell_type": "markdown",
   "metadata": {},
   "source": [
    "## Creating SGTIN URN Values\n",
    "\n",
    "The `EPCPyYes.core.v1_2.helpers` module contains some helpful functions for creating common URN values.\n",
    "\n",
    "In the example below, we create a python generator with ten SGTIN URN values by supplying the following (For notebook users: if you get an import error, run the code section above first):\n",
    "\n",
    "* Company Prefix\n",
    "* Indicator Digit\n",
    "* Item Reference Number\n",
    "* A list of serial numbers (in this case sequential)\n",
    "    \n",
    "### `gtin_urn_generator` helper function"
   ]
  },
  {
   "cell_type": "code",
   "execution_count": null,
   "metadata": {
    "collapsed": false
   },
   "outputs": [],
   "source": [
    "from EPCPyYes.core.v1_2.CBV import business_steps\n",
    "from EPCPyYes.core.v1_2 import helpers\n",
    "\n",
    "def create_epcs(start=1000, end=1002):\n",
    "    # create a range for the number generation (we can use SerialBox as well)\n",
    "    nums = range(start, end)\n",
    "    # generate some URNS by passing in the company prefix, indicator, item refernce\n",
    "    # number and a range of sequetial serial numbers.\n",
    "    epcs = helpers.gtin_urn_generator('305555', '0', '555551', nums)\n",
    "    return epcs\n",
    "\n",
    "for epc in create_epcs(1000,1010):\n",
    "    print(epc)"
   ]
  },
  {
   "cell_type": "markdown",
   "metadata": {},
   "source": [
    "### `gtin_to_urn` helper function\n",
    "\n",
    "Similar to the example above but instead of passing in a list of serial numbers pass in a single serial number.\n"
   ]
  },
  {
   "cell_type": "code",
   "execution_count": null,
   "metadata": {
    "collapsed": false
   },
   "outputs": [],
   "source": [
    "from EPCPyYes.core.v1_2 import helpers\n",
    "print(helpers.gtin_to_urn('305555', '10', '555551', 1000))"
   ]
  },
  {
   "cell_type": "markdown",
   "metadata": {},
   "source": [
    "### Getting Time Values for Events with the `get_current_utc_time_and_offset` function\n",
    "\n",
    "The `get_current_utc_time_and_offset` returns a two-tuple value with the current UTC time and the timezone offset.  Usefull for generating time values in EPCIS events (this is covered later)."
   ]
  },
  {
   "cell_type": "code",
   "execution_count": null,
   "metadata": {
    "collapsed": false
   },
   "outputs": [],
   "source": [
    "from EPCPyYes.core.v1_2 import helpers\n",
    "print(helpers.get_current_utc_time_and_offset())"
   ]
  },
  {
   "cell_type": "markdown",
   "metadata": {},
   "source": [
    "### Converting a GLN to an SGLN URN Value with the gln13_data_to_sgln_urn function\n",
    "\n",
    "Below you can see we are creating a generic GLN by specifying a company prefix and location reference as well as creating a SGLN by specifying the aformentioned values along with an extension."
   ]
  },
  {
   "cell_type": "code",
   "execution_count": null,
   "metadata": {
    "collapsed": false
   },
   "outputs": [],
   "source": [
    "from EPCPyYes.core.v1_2 import helpers\n",
    "destination_party = helpers.gln13_data_to_sgln_urn(company_prefix='0614141',\n",
    "                                           location_reference='00001')\n",
    "destination_location = helpers.gln13_data_to_sgln_urn(company_prefix='0614141',\n",
    "                                              location_reference='00001',\n",
    "                                              extension='23')\n",
    "print(destination_party)\n",
    "print(destination_location)"
   ]
  },
  {
   "cell_type": "markdown",
   "metadata": {
    "collapsed": true
   },
   "source": [
    "# Generating EPCIS Events\n",
    "\n",
    "Events can be generated in EPCPyYes by using the `template_events` module classes.  These classes rely on the Jinja2 templates defined in the root level `templates` directory of the project.  \n"
   ]
  },
  {
   "cell_type": "markdown",
   "metadata": {},
   "source": [
    "## Create Sample EPCs Using the Helpers\n",
    "Since we don't have any real EPCs to use for our examples, we will create some using the `EPCPyYes.core.v1_2.helpers.gtin_urn_generator' which will create a python generator based on a list of inbound serial numbers, company prefix and indicator digit.  Since we'll be using the EPCs in various examples below we'll convert the python generator to a list."
   ]
  },
  {
   "cell_type": "code",
   "execution_count": null,
   "metadata": {
    "collapsed": false
   },
   "outputs": [],
   "source": [
    "from EPCPyYes.core.v1_2 import helpers\n",
    "\n",
    "# we will use the same company prefix across many functions\n",
    "company_prefix = '305555'\n",
    "# we will need to create some dummy EPC values for our event...\n",
    "def create_epcs(start, end):\n",
    "    # create a range for the number generation (we can use SerialBox as well)\n",
    "    nums = range(start, end+1)\n",
    "    # generate some URNS by passing in the company prefix, indicator, item refernce\n",
    "    # number and a range of sequetial serial numbers.\n",
    "    epcs = helpers.gtin_urn_generator(company_prefix, '0', '555555', nums)\n",
    "    return epcs\n",
    "\n",
    "# create 5 epcs\n",
    "epcs = create_epcs(1,5)\n",
    "# this function returns a python generator so we will\n",
    "# convert it to a list for re-use in these examples\n",
    "epcs = [epc for epc in epcs]\n",
    "\n",
    "print('{0} epcs were created.'.format(len(epcs)))"
   ]
  },
  {
   "cell_type": "markdown",
   "metadata": {},
   "source": [
    "\n",
    "## Creating a Basic Object Event\n",
    "Here we will define an Object event in python and render it to XML.  By the time we complete all the other examples below, this event would be very much like a commissioning event one might see from a pharmaceutical packaging operation complete with lot and exipration date.\n",
    "\n",
    "### Using the CVB `BusinessSteps` and `Disposition` enumerations.\n",
    "You will notice below that we are adding a `biz_step` (commissioning) and a `disposition` (encoded) to the event.  This is done safely using the `EPCPyYes.core.v1_2.CBV` modulewhich contains enumeration for all compliant CBV data-types.  Using the `.value` property of each enum value will convert that value to a string for use in EPCIS events, etc."
   ]
  },
  {
   "cell_type": "code",
   "execution_count": null,
   "metadata": {
    "collapsed": false
   },
   "outputs": [],
   "source": [
    "from EPCPyYes.core.v1_2.events import Action\n",
    "from EPCPyYes.core.v1_2.template_events import ObjectEvent\n",
    "from EPCPyYes.core.v1_2.CBV.business_steps import BusinessSteps\n",
    "from EPCPyYes.core.v1_2.CBV.dispositions import Disposition\n",
    "\n",
    "# we will use the helper function to get the event time\n",
    "now, tzoffset = helpers.get_current_utc_time_and_offset()\n",
    "\n",
    "# now we create an object event...\n",
    "oe = ObjectEvent(now, tzoffset,\n",
    "                 record_time=now,\n",
    "                 action=Action.add.value,\n",
    "                 epc_list=epcs,\n",
    "                 biz_step=BusinessSteps.commissioning.value,\n",
    "                 disposition=Disposition.encoded.value)\n",
    "\n",
    "print(oe.render())"
   ]
  },
  {
   "cell_type": "markdown",
   "metadata": {},
   "source": [
    "## Adding a *Business Location* and *Read Point*\n",
    "\n",
    "Adding some business context by putting information relative to where the event took place and what device originated the event is done via the `biz_location` and `read_point` properties of EPCIS event objects in EPCPyYes.\tIn the example below we are using the GLN helpers in the `EPCPyYes.core.v1_2.helpers` module."
   ]
  },
  {
   "cell_type": "code",
   "execution_count": null,
   "metadata": {
    "collapsed": false
   },
   "outputs": [],
   "source": [
    "# the helper used below is designed to create the right GLN URN values based on input\n",
    "from EPCPyYes.core.v1_2 import helpers\n",
    "# next we will create a biz location and a read point\n",
    "biz_location = helpers.gln13_data_to_sgln_urn(company_prefix=company_prefix,\n",
    "                                      location_reference='123456')\n",
    "read_point = helpers.gln13_data_to_sgln_urn(company_prefix=company_prefix,\n",
    "                                    location_reference='123456',\n",
    "                                    extension='12')\n",
    "\n",
    "# these could also be supplied in the class constructor...\n",
    "oe.biz_location = biz_location\n",
    "oe.read_point = read_point\n",
    "\n",
    "print(oe.render())"
   ]
  },
  {
   "cell_type": "markdown",
   "metadata": {},
   "source": [
    "## Adding Instance Lot Master Data (ILMD) to an Event\n",
    "\n",
    "This is covered in section 7.3.6 of the EPCIS 1.2 standard.  Having said that, the simple explanation of ILMD is that it is a way to associate a lot or batch number to the serial numbers (or EPCs) in the event.  For a more complicated description, see the standard.\n"
   ]
  },
  {
   "cell_type": "code",
   "execution_count": null,
   "metadata": {
    "collapsed": false
   },
   "outputs": [],
   "source": [
    "from EPCPyYes.core.v1_2.CBV.instance_lot_master_data import InstanceLotMasterDataAttribute,\\\n",
    "    LotLevelAttributeName, ItemLevelAttributeName\n",
    "\n",
    "# lets create some lot and expiration data for event\n",
    "ilmd = [\n",
    "    InstanceLotMasterDataAttribute(\n",
    "        name=LotLevelAttributeName.itemExpirationDate,\n",
    "        value='2015-12-31'),\n",
    "    InstanceLotMasterDataAttribute(\n",
    "        name=ItemLevelAttributeName.lotNumber.value,\n",
    "        value='DL232')\n",
    "]\n",
    "\n",
    "# assign the property and that's it\n",
    "oe.ilmd = ilmd\n",
    "\n",
    "print(oe.render())\n",
    "# try pretty json\n",
    "print(oe.render_pretty_json())"
   ]
  },
  {
   "cell_type": "markdown",
   "metadata": {},
   "source": [
    "## Adding Source and Destination Data to an Event\n",
    "Here we are adding source and destination data to an event using the CVB values created for this task.  The source and destination lists can be added to any EPCIS event. *Source/Destination types* are covered in section 7.4 of the *CBV 1.2* standard."
   ]
  },
  {
   "cell_type": "code",
   "execution_count": null,
   "metadata": {
    "collapsed": false
   },
   "outputs": [],
   "source": [
    "from EPCPyYes.core.v1_2.CBV.source_destination import SourceDestinationTypes\n",
    "from EPCPyYes.core.v1_2.events import Source, Destination\n",
    "\n",
    "dest_company_prefix = '309999'\n",
    "# next we will create a biz location and a read point using the helpers...\n",
    "# you can do this manually if you want...\n",
    "owner_gln = helpers.gln13_data_to_sgln_urn(company_prefix=dest_company_prefix,\n",
    "                                      location_reference='111111')\n",
    "owner_location_gln = helpers.gln13_data_to_sgln_urn(company_prefix=dest_company_prefix,\n",
    "                                    location_reference='111111',\n",
    "                                    extension='233')\n",
    "\n",
    "\n",
    "# let's create a source list using the biz_location and read_point values just as an example\n",
    "# any GLN could be used here to signify who owns the product and where it is located. \n",
    "source_list = [\n",
    "    Source(SourceDestinationTypes.possessing_party.value,\n",
    "           biz_location),\n",
    "    Source(SourceDestinationTypes.location.value, read_point)\n",
    "]\n",
    "\n",
    "destination_list = [\n",
    "    Destination(SourceDestinationTypes.owning_party.value, owner_gln),\n",
    "    Destination(SourceDestinationTypes.location.value, owner_location_gln)\n",
    "]\n",
    "\n",
    "oe.source_list = source_list\n",
    "oe.destination_list = destination_list\n",
    "\n",
    "print(oe.render())\n",
    "print(oe.render_json())"
   ]
  },
  {
   "cell_type": "markdown",
   "metadata": {},
   "source": [
    "## Creating an Aggregation Event"
   ]
  },
  {
   "cell_type": "code",
   "execution_count": null,
   "metadata": {
    "collapsed": false
   },
   "outputs": [],
   "source": [
    "from EPCPyYes.core.v1_2 import helpers\n",
    "from EPCPyYes.core.v1_2.events import Source, Action\n",
    "from EPCPyYes.core.v1_2.template_events import AggregationEvent\n",
    "from EPCPyYes.core.v1_2.CBV import business_steps\n",
    "from EPCPyYes.core.v1_2.CBV.business_steps import BusinessSteps\n",
    "from EPCPyYes.core.v1_2.CBV.source_destination import SourceDestinationTypes\n",
    "from EPCPyYes.core.v1_2.CBV.dispositions import Disposition\n",
    "from EPCPyYes.core.v1_2.CBV.instance_lot_master_data import InstanceLotMasterDataAttribute,\\\n",
    "    LotLevelAttributeName, ItemLevelAttributeName\n",
    "\n",
    "# we will use the same company prefix across many functions\n",
    "company_prefix = '305555'\n",
    "\n",
    "# create a parent EPC to pack our child EPC values into\n",
    "# (note the different indicator)\n",
    "parent_epc = helpers.gtin_to_urn(company_prefix, indicator=3,\n",
    "                                 item_reference='555555',\n",
    "                                 serial_number='1')\n",
    "\n",
    "# now we create an object event...\n",
    "ae = AggregationEvent(\n",
    "    event_time=now, event_timezone_offset=tzoffset,\n",
    "    record_time=now, action=Action.add.value, parent_id=parent_epc,\n",
    "    child_epcs=epcs,\n",
    "    biz_step=BusinessSteps.packing.value,\n",
    "    disposition=Disposition.container_closed.value,\n",
    "    read_point=read_point,biz_location=biz_location\n",
    ")\n",
    "\n",
    "print(ae.render())"
   ]
  },
  {
   "cell_type": "markdown",
   "metadata": {},
   "source": [
    "## Adding a Transaction Event\n",
    "\n",
    "Below we will add a transaction event that mimics a *shipping* event in EPCIS.  The end result of the combined examples in this notebook will be a full EPCIS lot notification that would be typical in a pharmaceutical \n",
    "manufacturing environment with the following data (to review):\n",
    "\n",
    "\t* Object Event with Commissioning of Prodcut IDs\n",
    "\t* Aggregation Event of type ADD showing how goods were packaged together\n",
    "\t* Transaction Event of type ADD showing that the goods were shipped from one location to another"
   ]
  },
  {
   "cell_type": "code",
   "execution_count": null,
   "metadata": {
    "collapsed": false
   },
   "outputs": [],
   "source": [
    "from EPCPyYes.core.v1_2.CBV.business_transactions import BusinessTransactionType\n",
    "from EPCPyYes.core.v1_2.CBV.helpers import make_trade_item_master_data_urn\n",
    "from EPCPyYes.core.v1_2.template_events import TransactionEvent\n",
    "from EPCPyYes.core.v1_2.events import BusinessTransaction\n",
    "\n",
    "disposition = Disposition.in_transit.value\n",
    "biz_step = BusinessSteps.shipping.value\n",
    "\n",
    "#here we create a business transaction to add to the events business transaction list.\n",
    "biz_transaction_list = [\n",
    "    BusinessTransaction(\n",
    "        'urn:epc:id:gdti:0614141.06012.1234', \n",
    "        type=BusinessTransactionType.Purchase_Order\n",
    "    )\n",
    "]\n",
    "# We will use the other biz location and read point data, etc. from the \n",
    "# examples above.\n",
    "te = TransactionEvent(now, tzoffset, now, \n",
    "                      action=Action.add.value,\n",
    "                      parent_id=parent_epc, \n",
    "                      biz_location=biz_location, \n",
    "                      read_point=read_point,\n",
    "                      source_list=source_list,\n",
    "                      destination_list=destination_list,\n",
    "                      biz_step=biz_step, \n",
    "                      disposition=disposition,\n",
    "                      business_transaction_list=biz_transaction_list\n",
    "                     )\n",
    "print(te.render())\n",
    "print(oe.render_json())"
   ]
  },
  {
   "cell_type": "markdown",
   "metadata": {},
   "source": [
    "## Creating a Quantity List\n",
    "EPCIS events allow you to specify a quantity list to express the presence of items in an event that are not identified via a unique id.  We will add a `quantity_list` to our event to express that there were 5 identifiable trade items shipped of a certain weight.\t"
   ]
  },
  {
   "cell_type": "code",
   "execution_count": null,
   "metadata": {
    "collapsed": false
   },
   "outputs": [],
   "source": [
    "from EPCPyYes.core.v1_2.events import QuantityElement\n",
    "from EPCPyYes.core.v1_2.CBV.helpers import make_trade_item_master_data_urn\n",
    "\n",
    "# This helper function will create the proper trade\n",
    "# item master date URN value for us using the company\n",
    "# prefix, indicator and item reference.\n",
    "trade_item = make_trade_item_master_data_urn('305555', '0',\n",
    "                                            '555555')\n",
    "\n",
    "quantity_list = [\n",
    "    QuantityElement(epc_class=trade_item, quantity=5),\n",
    "    QuantityElement(epc_class=trade_item, quantity=14.5,\n",
    "                   uom='LB')]\n",
    "\n",
    "te.quantity_list = quantity_list\n",
    "print(te.render())\n",
    "print(oe.render_json())"
   ]
  },
  {
   "cell_type": "markdown",
   "metadata": {},
   "source": [
    "# Using the New EventID and ErrorDeclaration\n",
    "\n",
    "Before we create our TransformationEvent (see below) we'll use the new features of EPCIS 1.2 to create a unique identifier for our event and also add an ErrorDeclaration that contains info with regards to the (albeit fictional) EPCIS events that the ErrorDeclaration claims to have the error fixed by."
   ]
  },
  {
   "cell_type": "code",
   "execution_count": null,
   "metadata": {
    "collapsed": false
   },
   "outputs": [],
   "source": [
    "import uuid\n",
    "from datetime import datetime\n",
    "from EPCPyYes.core.v1_2.events import ErrorDeclaration\n",
    "from EPCPyYes.core.v1_2.CBV import error_reasons\n",
    "\n",
    "# here we create a new error declaration using the CBV error reasons\n",
    "# along with the current time and some fake corrective event ids \n",
    "# to use as an example\n",
    "error_declaration = ErrorDeclaration(\n",
    "    declaration_time = datetime.utcnow().isoformat(),\n",
    "    reason=error_reasons.ErrorReason.incorrect_data.value,\n",
    "    corrective_event_ids=[str(uuid.uuid4()), str(uuid.uuid4())]\n",
    ")\n",
    "# here we create a new event id by using a UUID 4\n",
    "event_id = str(uuid.uuid4())\n"
   ]
  },
  {
   "cell_type": "markdown",
   "metadata": {},
   "source": [
    "# Add a Transformation Event\n",
    "Next we will add a transformation event that shows how some EPC values were repacked into new EPC values."
   ]
  },
  {
   "cell_type": "code",
   "execution_count": null,
   "metadata": {
    "collapsed": false
   },
   "outputs": [],
   "source": [
    "import uuid\n",
    "from EPCPyYes.core.v1_2.template_events import TransformationEvent\n",
    "\n",
    "#lets create a custom ilmd for the transformation event\n",
    "ilmd = [\n",
    "    InstanceLotMasterDataAttribute(\n",
    "        name=LotLevelAttributeName.itemExpirationDate,\n",
    "        value='2015-12-31'),\n",
    "    InstanceLotMasterDataAttribute(\n",
    "        name=ItemLevelAttributeName.lotNumber.value,\n",
    "        value='DL232')\n",
    "]\n",
    "\n",
    "#next we will create an input and ouput quantity list that\n",
    "#shows a different count but the same weight\n",
    "input_quantity_list = [\n",
    "            QuantityElement(epc_class=trade_item, quantity=100, uom='EA'),\n",
    "            QuantityElement(epc_class=trade_item, quantity=94.3,\n",
    "                            uom='LB')]\n",
    "output_quantity_list = [\n",
    "    QuantityElement(epc_class=trade_item, quantity=10, uom='EA'),\n",
    "    QuantityElement(epc_class=trade_item, quantity=94.3,\n",
    "                    uom='LB')]\n",
    "\n",
    "# we will create a list of 100 for input\n",
    "epcs = create_epcs(2000,2099)\n",
    "# this function returns a python generator so we will\n",
    "# convert it to a list for re-use in this example since\n",
    "# the event will be rendered twice\n",
    "input_epcs = [epc for epc in epcs]\n",
    "# and a list of 10 for the output\n",
    "epcs = create_epcs(2100,2109)\n",
    "# this function returns a python generator so we will\n",
    "# convert it to a list for re-use in this example since\n",
    "# the event will be rendered twice\n",
    "output_epcs = [epc for epc in epcs]\n",
    "\n",
    "#while it's not realistic, we can use the rest of the business transaction, source,\n",
    "#destination lists, etc to keep the code to a minimum...\n",
    "\n",
    "tx_event = TransformationEvent(\n",
    "    now, tzoffset, record_time=now,\n",
    "    input_epc_list=input_epcs,\n",
    "    input_quantity_list=input_quantity_list,\n",
    "    output_epc_list=output_epcs,\n",
    "    output_quantity_list=output_quantity_list,\n",
    "    transformation_id=str(uuid.uuid4()),\n",
    "    biz_step=BusinessSteps.repackaging.value,\n",
    "    disposition=Disposition.returned.value,\n",
    "    read_point=read_point,\n",
    "    biz_location=biz_location,\n",
    "    business_transaction_list=biz_transaction_list,\n",
    "    source_list=source_list,\n",
    "    destination_list=destination_list,\n",
    "    ilmd=ilmd,\n",
    "    event_id=event_id,\n",
    "    error_declaration=error_declaration\n",
    ")\n",
    "\n",
    "print(tx_event.render())"
   ]
  },
  {
   "cell_type": "markdown",
   "metadata": {},
   "source": [
    "# Create a Standard Business Document Header\n",
    "\n",
    "If you'd like to include a SBDH header in your document to denote who the document is from and where it is going, you'll add a document header.\n",
    "\n",
    "## Create sender and receiver partner ids\n",
    "\n",
    "First we will create the partner ids for sender and receiver.  For most EPCIS event documents, it is common to just use the SGLN of each party.  The examples below will do more than this, but they are only examples intended to show how to use each field/element/value in the header."
   ]
  },
  {
   "cell_type": "code",
   "execution_count": null,
   "metadata": {
    "collapsed": true
   },
   "outputs": [],
   "source": [
    "from EPCPyYes.core.SBDH import template_sbdh\n",
    "from EPCPyYes.core.SBDH import sbdh\n",
    "\n",
    "sender_partner_id = sbdh.PartnerIdentification(\n",
    "    authority='SGLN',\n",
    "    value='urn:epc:id:sgln:039999.999999.0'\n",
    ")\n",
    "receiver_partner_id = sbdh.PartnerIdentification(\n",
    "    authority='SGLN',\n",
    "    value='urn:epc:id:sgln:039999.111111.0'\n",
    ")\n"
   ]
  },
  {
   "cell_type": "markdown",
   "metadata": {},
   "source": [
    "## Create the Partner Instances for Sender and Reciever\n",
    "\n",
    "So below we will create two partners and set one to have a `partner_type` of *Sender* and the other to have one of *Receiver*.  In addition, we use the **optional** contact info properties of the `Partner` class to specify things like email, phone number, contact name, etc."
   ]
  },
  {
   "cell_type": "code",
   "execution_count": null,
   "metadata": {
    "collapsed": true
   },
   "outputs": [],
   "source": [
    "sender = sbdh.Partner(\n",
    "    partner_type=sbdh.PartnerType.SENDER,\n",
    "    partner_id=sender_partner_id,\n",
    "    contact='John Smith',\n",
    "    telephone_number='555-555-5555',\n",
    "    email_address='john.smith@pharma.local',\n",
    "    contact_type_identifier='Seller'\n",
    ")\n",
    "receiver = sbdh.Partner(\n",
    "    partner_type=sbdh.PartnerType.RECEIVER,\n",
    "    partner_id=receiver_partner_id,\n",
    "    contact='Joe Blow',\n",
    "    telephone_number='555-555-2222',\n",
    "    email_address='joe.blow@distributor.local',\n",
    "    contact_type_identifier='Buyer'\n",
    ")\n"
   ]
  },
  {
   "cell_type": "markdown",
   "metadata": {},
   "source": [
    "## Create the Document Identification and Header Class Instances\n",
    "So the SBDH requires a specific `DocumentIdentification` element with required values.  Some optional values that you can supply are the `instance_identifier` which is a unique value that identifies the document- the default value for this is a UUID4.  Another optional value you can supply is the created date and time in ISO format- the default for this is the current date and time in ISO using UTC timezone info. "
   ]
  },
  {
   "cell_type": "code",
   "execution_count": null,
   "metadata": {
    "collapsed": false
   },
   "outputs": [],
   "source": [
    "document_identification = sbdh.DocumentIdentification(\n",
    "    creation_date_and_time=datetime.now().isoformat(),\n",
    "    document_type=sbdh.DocumentType.EVENTS\n",
    ")\n",
    "header = template_sbdh.StandardBusinessDocumentHeader(\n",
    "    document_identification=document_identification,\n",
    "    partners=[sender, receiver]\n",
    ")\n",
    "print(header.render())\n",
    "print(header.render_json())"
   ]
  },
  {
   "cell_type": "markdown",
   "metadata": {},
   "source": [
    "# Adding The Header and Events to an EPCIS Document\n",
    " \n",
    "To execute this code in Jupyter, make sure you have run the code in the prior example.  \n",
    "\n",
    "## EPCISDocument Class\n",
    "\n",
    "The first type of document class is the `EPCISDocument` and, as you can see below, it has a 4 lists you intialize the object with that contain object, aggregation, transaction and transformation event lists.  Each of those event types will always be rendered in that order\n",
    "if you use this class...which is usually fine.\n",
    "\n",
    "## EPCISEventListDocument\n",
    "\n",
    "If you need to directly control the order of events in a document, use the \n",
    "`EPCISEventListDocument` which allows you to pass in a list of any type event in any\n",
    "order.  Each event will be rendered in the order in which it sits in the list.\n",
    "\n",
    "Creating and EPCIS Document and adding events to it in EPCPyYes if fairly simple:"
   ]
  },
  {
   "cell_type": "code",
   "execution_count": null,
   "metadata": {
    "collapsed": false
   },
   "outputs": [],
   "source": [
    "from EPCPyYes.core.v1_2.template_events import EPCISDocument, EPCISEventListDocument\n",
    "\n",
    "#event types strictly ordered\n",
    "epc_doc = EPCISDocument(header=header, object_events=[oe], aggregation_events=[ae],\n",
    "                        transaction_events=[te], transformation_events=[tx_event])\n",
    "\n",
    "#events ordered as they appear in the list\n",
    "epc_doc_2 = EPCISEventListDocument(template_events=[te, oe, ae, tx_event], header=header)\n",
    "\n",
    "print(epc_doc.render())\n",
    "print('\\n'*5)\n",
    "print(epc_doc_2.render())\n",
    "\n",
    "# as with all the template_event classes, you can render to JSON as well...\n",
    "print(epc_doc_2.render_json())"
   ]
  },
  {
   "cell_type": "code",
   "execution_count": null,
   "metadata": {
    "collapsed": true
   },
   "outputs": [],
   "source": []
  }
 ],
 "metadata": {
  "kernelspec": {
   "display_name": "Python 3",
   "language": "python",
   "name": "python3"
  },
  "language_info": {
   "codemirror_mode": {
    "name": "ipython",
    "version": 3
   },
   "file_extension": ".py",
   "mimetype": "text/x-python",
   "name": "python",
   "nbconvert_exporter": "python",
   "pygments_lexer": "ipython3",
   "version": "3.5.1"
  }
 },
 "nbformat": 4,
 "nbformat_minor": 1
}
